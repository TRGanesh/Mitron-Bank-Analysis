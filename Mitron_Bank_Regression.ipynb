{
 "cells": [
  {
   "cell_type": "markdown",
   "id": "e2c59f39-9eb3-4830-b765-78c6f8ed1613",
   "metadata": {},
   "source": [
    "# Mitron Bank Data\n",
    "\n",
    "## Regression"
   ]
  },
  {
   "cell_type": "code",
   "execution_count": 1,
   "id": "9f234c47-97e2-4f6a-8d35-d2f266508d0d",
   "metadata": {},
   "outputs": [],
   "source": [
    "import pandas as pd\n",
    "import seaborn as sns\n",
    "import matplotlib.pyplot as plt\n",
    "from scipy.stats import zscore\n",
    "import numpy as np\n",
    "\n",
    "pd.set_option('display.max_columns', None)\n",
    "\n",
    "from sklearn.model_selection import train_test_split\n",
    "from sklearn.preprocessing import StandardScaler,OneHotEncoder\n",
    "from sklearn.linear_model import LinearRegression\n",
    "from xgboost import XGBRegressor\n",
    "from sklearn.metrics import mean_absolute_error,mean_squared_error,r2_score\n",
    "\n",
    "import warnings\n",
    "warnings.filterwarnings('ignore')"
   ]
  },
  {
   "cell_type": "code",
   "execution_count": 2,
   "id": "3da8a56c-e2db-4af2-b0e1-33b2b2871797",
   "metadata": {},
   "outputs": [],
   "source": [
    "dims_df= pd.read_csv('dim_customers.csv')"
   ]
  },
  {
   "cell_type": "code",
   "execution_count": 3,
   "id": "e938a5f3-dae0-412e-994b-88ba6c884dc0",
   "metadata": {},
   "outputs": [
    {
     "data": {
      "text/html": [
       "<div>\n",
       "<style scoped>\n",
       "    .dataframe tbody tr th:only-of-type {\n",
       "        vertical-align: middle;\n",
       "    }\n",
       "\n",
       "    .dataframe tbody tr th {\n",
       "        vertical-align: top;\n",
       "    }\n",
       "\n",
       "    .dataframe thead th {\n",
       "        text-align: right;\n",
       "    }\n",
       "</style>\n",
       "<table border=\"1\" class=\"dataframe\">\n",
       "  <thead>\n",
       "    <tr style=\"text-align: right;\">\n",
       "      <th></th>\n",
       "      <th>customer_id</th>\n",
       "      <th>age_group</th>\n",
       "      <th>city</th>\n",
       "      <th>occupation</th>\n",
       "      <th>gender</th>\n",
       "      <th>marital status</th>\n",
       "      <th>avg_income</th>\n",
       "    </tr>\n",
       "  </thead>\n",
       "  <tbody>\n",
       "    <tr>\n",
       "      <th>2265</th>\n",
       "      <td>ATQCUS2988</td>\n",
       "      <td>45+</td>\n",
       "      <td>Mumbai</td>\n",
       "      <td>Salaried Other Employees</td>\n",
       "      <td>Female</td>\n",
       "      <td>Married</td>\n",
       "      <td>47352</td>\n",
       "    </tr>\n",
       "    <tr>\n",
       "      <th>320</th>\n",
       "      <td>ATQCUS0881</td>\n",
       "      <td>25-34</td>\n",
       "      <td>Hyderabad</td>\n",
       "      <td>Government Employees</td>\n",
       "      <td>Male</td>\n",
       "      <td>Married</td>\n",
       "      <td>55061</td>\n",
       "    </tr>\n",
       "    <tr>\n",
       "      <th>1494</th>\n",
       "      <td>ATQCUS3885</td>\n",
       "      <td>21-24</td>\n",
       "      <td>Chennai</td>\n",
       "      <td>Freelancers</td>\n",
       "      <td>Female</td>\n",
       "      <td>Single</td>\n",
       "      <td>28009</td>\n",
       "    </tr>\n",
       "  </tbody>\n",
       "</table>\n",
       "</div>"
      ],
      "text/plain": [
       "     customer_id age_group       city                occupation  gender  \\\n",
       "2265  ATQCUS2988       45+     Mumbai  Salaried Other Employees  Female   \n",
       "320   ATQCUS0881     25-34  Hyderabad      Government Employees    Male   \n",
       "1494  ATQCUS3885     21-24    Chennai               Freelancers  Female   \n",
       "\n",
       "     marital status  avg_income  \n",
       "2265        Married       47352  \n",
       "320         Married       55061  \n",
       "1494         Single       28009  "
      ]
     },
     "execution_count": 3,
     "metadata": {},
     "output_type": "execute_result"
    }
   ],
   "source": [
    "dims_df.sample(3)"
   ]
  },
  {
   "cell_type": "code",
   "execution_count": 4,
   "id": "91d40642-870d-4122-817d-341bc60ab809",
   "metadata": {},
   "outputs": [],
   "source": [
    "fact_df= pd.read_csv('fact_spends.csv')"
   ]
  },
  {
   "cell_type": "code",
   "execution_count": 5,
   "id": "c4a0d892-c7a6-47a4-aeec-9dc7dedc0cd9",
   "metadata": {},
   "outputs": [
    {
     "data": {
      "text/html": [
       "<div>\n",
       "<style scoped>\n",
       "    .dataframe tbody tr th:only-of-type {\n",
       "        vertical-align: middle;\n",
       "    }\n",
       "\n",
       "    .dataframe tbody tr th {\n",
       "        vertical-align: top;\n",
       "    }\n",
       "\n",
       "    .dataframe thead th {\n",
       "        text-align: right;\n",
       "    }\n",
       "</style>\n",
       "<table border=\"1\" class=\"dataframe\">\n",
       "  <thead>\n",
       "    <tr style=\"text-align: right;\">\n",
       "      <th></th>\n",
       "      <th>customer_id</th>\n",
       "      <th>month</th>\n",
       "      <th>category</th>\n",
       "      <th>payment_type</th>\n",
       "      <th>spend</th>\n",
       "    </tr>\n",
       "  </thead>\n",
       "  <tbody>\n",
       "    <tr>\n",
       "      <th>67434</th>\n",
       "      <td>ATQCUS3085</td>\n",
       "      <td>July</td>\n",
       "      <td>Groceries</td>\n",
       "      <td>Net Banking</td>\n",
       "      <td>210</td>\n",
       "    </tr>\n",
       "    <tr>\n",
       "      <th>502398</th>\n",
       "      <td>ATQCUS3863</td>\n",
       "      <td>June</td>\n",
       "      <td>Travel</td>\n",
       "      <td>Net Banking</td>\n",
       "      <td>46</td>\n",
       "    </tr>\n",
       "    <tr>\n",
       "      <th>757662</th>\n",
       "      <td>ATQCUS1344</td>\n",
       "      <td>June</td>\n",
       "      <td>Food</td>\n",
       "      <td>Credit Card</td>\n",
       "      <td>769</td>\n",
       "    </tr>\n",
       "  </tbody>\n",
       "</table>\n",
       "</div>"
      ],
      "text/plain": [
       "       customer_id month   category payment_type  spend\n",
       "67434   ATQCUS3085  July  Groceries  Net Banking    210\n",
       "502398  ATQCUS3863  June     Travel  Net Banking     46\n",
       "757662  ATQCUS1344  June       Food  Credit Card    769"
      ]
     },
     "execution_count": 5,
     "metadata": {},
     "output_type": "execute_result"
    }
   ],
   "source": [
    "fact_df.sample(3)"
   ]
  },
  {
   "cell_type": "markdown",
   "id": "32288543-3d80-4c2a-a3ae-abeee9343c90",
   "metadata": {},
   "source": [
    "#### Merging the DataFrames"
   ]
  },
  {
   "cell_type": "code",
   "execution_count": 6,
   "id": "71cd7528-e163-4bc0-bfcf-27e27de34ffc",
   "metadata": {},
   "outputs": [],
   "source": [
    "merged_df = pd.merge(left=dims_df,right=fact_df,on='customer_id')"
   ]
  },
  {
   "cell_type": "code",
   "execution_count": 7,
   "id": "b3754050-0242-4d61-8221-be5167cbaba6",
   "metadata": {},
   "outputs": [
    {
     "data": {
      "text/html": [
       "<div>\n",
       "<style scoped>\n",
       "    .dataframe tbody tr th:only-of-type {\n",
       "        vertical-align: middle;\n",
       "    }\n",
       "\n",
       "    .dataframe tbody tr th {\n",
       "        vertical-align: top;\n",
       "    }\n",
       "\n",
       "    .dataframe thead th {\n",
       "        text-align: right;\n",
       "    }\n",
       "</style>\n",
       "<table border=\"1\" class=\"dataframe\">\n",
       "  <thead>\n",
       "    <tr style=\"text-align: right;\">\n",
       "      <th></th>\n",
       "      <th>customer_id</th>\n",
       "      <th>age_group</th>\n",
       "      <th>city</th>\n",
       "      <th>occupation</th>\n",
       "      <th>gender</th>\n",
       "      <th>marital status</th>\n",
       "      <th>avg_income</th>\n",
       "      <th>month</th>\n",
       "      <th>category</th>\n",
       "      <th>payment_type</th>\n",
       "      <th>spend</th>\n",
       "    </tr>\n",
       "  </thead>\n",
       "  <tbody>\n",
       "    <tr>\n",
       "      <th>741657</th>\n",
       "      <td>ATQCUS1123</td>\n",
       "      <td>35-45</td>\n",
       "      <td>Delhi NCR</td>\n",
       "      <td>Salaried Other Employees</td>\n",
       "      <td>Male</td>\n",
       "      <td>Married</td>\n",
       "      <td>41493</td>\n",
       "      <td>June</td>\n",
       "      <td>Health &amp; Wellness</td>\n",
       "      <td>UPI</td>\n",
       "      <td>516</td>\n",
       "    </tr>\n",
       "    <tr>\n",
       "      <th>229418</th>\n",
       "      <td>ATQCUS1932</td>\n",
       "      <td>45+</td>\n",
       "      <td>Chennai</td>\n",
       "      <td>Business Owners</td>\n",
       "      <td>Male</td>\n",
       "      <td>Married</td>\n",
       "      <td>80511</td>\n",
       "      <td>May</td>\n",
       "      <td>Groceries</td>\n",
       "      <td>Net Banking</td>\n",
       "      <td>358</td>\n",
       "    </tr>\n",
       "    <tr>\n",
       "      <th>578271</th>\n",
       "      <td>ATQCUS3866</td>\n",
       "      <td>21-24</td>\n",
       "      <td>Bengaluru</td>\n",
       "      <td>Government Employees</td>\n",
       "      <td>Female</td>\n",
       "      <td>Single</td>\n",
       "      <td>41018</td>\n",
       "      <td>June</td>\n",
       "      <td>Apparel</td>\n",
       "      <td>Credit Card</td>\n",
       "      <td>1026</td>\n",
       "    </tr>\n",
       "    <tr>\n",
       "      <th>222427</th>\n",
       "      <td>ATQCUS2302</td>\n",
       "      <td>25-34</td>\n",
       "      <td>Bengaluru</td>\n",
       "      <td>Salaried Other Employees</td>\n",
       "      <td>Female</td>\n",
       "      <td>Married</td>\n",
       "      <td>38605</td>\n",
       "      <td>October</td>\n",
       "      <td>Bills</td>\n",
       "      <td>Credit Card</td>\n",
       "      <td>1773</td>\n",
       "    </tr>\n",
       "    <tr>\n",
       "      <th>137819</th>\n",
       "      <td>ATQCUS3243</td>\n",
       "      <td>21-24</td>\n",
       "      <td>Mumbai</td>\n",
       "      <td>Government Employees</td>\n",
       "      <td>Male</td>\n",
       "      <td>Single</td>\n",
       "      <td>39415</td>\n",
       "      <td>October</td>\n",
       "      <td>Food</td>\n",
       "      <td>Credit Card</td>\n",
       "      <td>607</td>\n",
       "    </tr>\n",
       "  </tbody>\n",
       "</table>\n",
       "</div>"
      ],
      "text/plain": [
       "       customer_id age_group       city                occupation  gender  \\\n",
       "741657  ATQCUS1123     35-45  Delhi NCR  Salaried Other Employees    Male   \n",
       "229418  ATQCUS1932       45+    Chennai           Business Owners    Male   \n",
       "578271  ATQCUS3866     21-24  Bengaluru      Government Employees  Female   \n",
       "222427  ATQCUS2302     25-34  Bengaluru  Salaried Other Employees  Female   \n",
       "137819  ATQCUS3243     21-24     Mumbai      Government Employees    Male   \n",
       "\n",
       "       marital status  avg_income    month           category payment_type  \\\n",
       "741657        Married       41493     June  Health & Wellness          UPI   \n",
       "229418        Married       80511      May          Groceries  Net Banking   \n",
       "578271         Single       41018     June            Apparel  Credit Card   \n",
       "222427        Married       38605  October              Bills  Credit Card   \n",
       "137819         Single       39415  October               Food  Credit Card   \n",
       "\n",
       "        spend  \n",
       "741657    516  \n",
       "229418    358  \n",
       "578271   1026  \n",
       "222427   1773  \n",
       "137819    607  "
      ]
     },
     "execution_count": 7,
     "metadata": {},
     "output_type": "execute_result"
    }
   ],
   "source": [
    "merged_df.sample(5)"
   ]
  },
  {
   "cell_type": "code",
   "execution_count": 8,
   "id": "8fa694dd-ee62-4c2e-bc97-375b22855501",
   "metadata": {},
   "outputs": [
    {
     "data": {
      "text/plain": [
       "customer_id       object\n",
       "age_group         object\n",
       "city              object\n",
       "occupation        object\n",
       "gender            object\n",
       "marital status    object\n",
       "avg_income         int64\n",
       "month             object\n",
       "category          object\n",
       "payment_type      object\n",
       "spend              int64\n",
       "dtype: object"
      ]
     },
     "execution_count": 8,
     "metadata": {},
     "output_type": "execute_result"
    }
   ],
   "source": [
    "merged_df.dtypes"
   ]
  },
  {
   "cell_type": "markdown",
   "id": "085f043b-2cc3-426b-9613-e860e3cdd01e",
   "metadata": {},
   "source": [
    "#### **Dropping Customer ID & Month Column**"
   ]
  },
  {
   "cell_type": "code",
   "execution_count": 9,
   "id": "f55ed6c5-a258-4255-9c0c-29a0dd89654b",
   "metadata": {},
   "outputs": [],
   "source": [
    "merged_df.drop(columns=['customer_id','month'],inplace=True)"
   ]
  },
  {
   "cell_type": "code",
   "execution_count": null,
   "id": "1798135d-a6d4-4f72-88a9-597f07010899",
   "metadata": {},
   "outputs": [],
   "source": []
  },
  {
   "cell_type": "markdown",
   "id": "fa42380f-750c-4dff-98dc-7e420c5569e0",
   "metadata": {},
   "source": [
    "### **Train-Test Split**"
   ]
  },
  {
   "cell_type": "code",
   "execution_count": 14,
   "id": "01585362-8cb9-4d4c-90e6-cd3669ce61b8",
   "metadata": {},
   "outputs": [
    {
     "data": {
      "text/plain": [
       "(864000, 9)"
      ]
     },
     "execution_count": 14,
     "metadata": {},
     "output_type": "execute_result"
    }
   ],
   "source": [
    "merged_df.shape"
   ]
  },
  {
   "cell_type": "code",
   "execution_count": 15,
   "id": "13d9f10e-fd75-4a43-a3ce-2c759d241294",
   "metadata": {},
   "outputs": [],
   "source": [
    "X = merged_df.drop(columns='spend')\n",
    "y = merged_df['spend']"
   ]
  },
  {
   "cell_type": "code",
   "execution_count": 16,
   "id": "96a7e7ca-2d54-465f-b78d-e730da8a6cf4",
   "metadata": {},
   "outputs": [],
   "source": [
    "X_train, X_test, y_train, y_test = train_test_split(X, y, test_size=0.30, random_state=31)"
   ]
  },
  {
   "cell_type": "code",
   "execution_count": 17,
   "id": "1df12933-b828-4f55-b160-172bc3375e82",
   "metadata": {},
   "outputs": [
    {
     "data": {
      "text/plain": [
       "((604800, 8), (604800,), (259200, 8), (259200,))"
      ]
     },
     "execution_count": 17,
     "metadata": {},
     "output_type": "execute_result"
    }
   ],
   "source": [
    "X_train.shape,y_train.shape , X_test.shape,y_test.shape"
   ]
  },
  {
   "cell_type": "markdown",
   "id": "d95df59e-cb1d-47b8-ab48-dea3cd04903e",
   "metadata": {},
   "source": [
    "### **Encoding Categorical Features**\n",
    "#### **Using One-Hot Encoding**"
   ]
  },
  {
   "cell_type": "code",
   "execution_count": 18,
   "id": "16e80a7e-973c-484c-b0de-242dd0d92aa7",
   "metadata": {},
   "outputs": [],
   "source": [
    "ohe = OneHotEncoder(drop='first',sparse=False,dtype=np.int32)"
   ]
  },
  {
   "cell_type": "code",
   "execution_count": 19,
   "id": "7cb5bcdf-ed72-4586-a553-06cfc5e1c067",
   "metadata": {},
   "outputs": [
    {
     "name": "stderr",
     "output_type": "stream",
     "text": [
      "/opt/anaconda3/lib/python3.9/site-packages/sklearn/preprocessing/_encoders.py:975: FutureWarning: `sparse` was renamed to `sparse_output` in version 1.2 and will be removed in 1.4. `sparse_output` is ignored unless you leave `sparse` to its default value.\n",
      "  warnings.warn(\n"
     ]
    }
   ],
   "source": [
    "X_train_new = ohe.fit_transform(X_train[['age_group','city','occupation','gender','marital status','category','payment_type']])"
   ]
  },
  {
   "cell_type": "code",
   "execution_count": 20,
   "id": "93bbe787-9329-4d9c-a083-702b6d8353d5",
   "metadata": {},
   "outputs": [
    {
     "data": {
      "text/plain": [
       "array([[0, 1, 0, ..., 0, 1, 0],\n",
       "       [1, 0, 0, ..., 1, 0, 0],\n",
       "       [0, 0, 0, ..., 0, 0, 0],\n",
       "       ...,\n",
       "       [1, 0, 0, ..., 0, 1, 0],\n",
       "       [0, 0, 0, ..., 0, 0, 1],\n",
       "       [0, 0, 0, ..., 1, 0, 0]], dtype=int32)"
      ]
     },
     "execution_count": 20,
     "metadata": {},
     "output_type": "execute_result"
    }
   ],
   "source": [
    "X_train_new\n",
    "# Contains Only Categorical Encoded Values"
   ]
  },
  {
   "cell_type": "code",
   "execution_count": 21,
   "id": "8e45a159-3ddb-4f2d-9e7e-dbeaecd72d75",
   "metadata": {},
   "outputs": [
    {
     "data": {
      "text/plain": [
       "(604800, 24)"
      ]
     },
     "execution_count": 21,
     "metadata": {},
     "output_type": "execute_result"
    }
   ],
   "source": [
    "X_train_new.shape"
   ]
  },
  {
   "cell_type": "markdown",
   "id": "d277ab7b-0053-4a08-b10d-b5f55190580a",
   "metadata": {},
   "source": [
    "**Applying same transfomation on Test data**"
   ]
  },
  {
   "cell_type": "code",
   "execution_count": 22,
   "id": "900de4c2-6014-4958-92c0-69322d0d3e07",
   "metadata": {},
   "outputs": [
    {
     "name": "stderr",
     "output_type": "stream",
     "text": [
      "/opt/anaconda3/lib/python3.9/site-packages/sklearn/preprocessing/_encoders.py:975: FutureWarning: `sparse` was renamed to `sparse_output` in version 1.2 and will be removed in 1.4. `sparse_output` is ignored unless you leave `sparse` to its default value.\n",
      "  warnings.warn(\n"
     ]
    }
   ],
   "source": [
    "X_test_new = ohe.fit_transform(X_test[['age_group','city','occupation','gender','marital status','category','payment_type']])"
   ]
  },
  {
   "cell_type": "markdown",
   "id": "acd91c05-5995-4f13-9b87-0b7bfb12decf",
   "metadata": {},
   "source": [
    "**Combining Encoded categorical and Numerical values of X_train and X_test**"
   ]
  },
  {
   "cell_type": "code",
   "execution_count": 23,
   "id": "3282be2c-ea07-4f81-ad27-33abe551437f",
   "metadata": {},
   "outputs": [],
   "source": [
    "ohe_X_train = np.hstack((X_train[['avg_income']].values,X_train_new))"
   ]
  },
  {
   "cell_type": "code",
   "execution_count": 24,
   "id": "9b101ba0-07a8-4e7e-8c96-301cc7f3cd9c",
   "metadata": {},
   "outputs": [],
   "source": [
    "ohe_X_test = np.hstack((X_test[['avg_income']].values,X_test_new))"
   ]
  },
  {
   "cell_type": "code",
   "execution_count": 25,
   "id": "8eacc374-66d1-461a-91f0-57c2a16e2c17",
   "metadata": {},
   "outputs": [
    {
     "data": {
      "text/plain": [
       "numpy.ndarray"
      ]
     },
     "execution_count": 25,
     "metadata": {},
     "output_type": "execute_result"
    }
   ],
   "source": [
    "type(ohe_X_train)"
   ]
  },
  {
   "cell_type": "code",
   "execution_count": 47,
   "id": "cdf9eee7-1a4d-4f74-8966-12839f5e3648",
   "metadata": {},
   "outputs": [
    {
     "data": {
      "text/plain": [
       "array([[35532,     0,     1, ...,     0,     1,     0],\n",
       "       [60041,     1,     0, ...,     1,     0,     0],\n",
       "       [27794,     0,     0, ...,     0,     0,     0],\n",
       "       ...,\n",
       "       [35099,     1,     0, ...,     0,     1,     0],\n",
       "       [46729,     0,     0, ...,     0,     0,     1],\n",
       "       [26316,     0,     0, ...,     1,     0,     0]])"
      ]
     },
     "execution_count": 47,
     "metadata": {},
     "output_type": "execute_result"
    }
   ],
   "source": [
    "ohe_X_train"
   ]
  },
  {
   "cell_type": "markdown",
   "id": "b00c4c18-2f6a-4d3a-a81e-b2e2a143762f",
   "metadata": {},
   "source": [
    "### **Scaling**"
   ]
  },
  {
   "cell_type": "code",
   "execution_count": 26,
   "id": "9bdf2a96-cc63-43dc-a29f-df0e6a03b6a8",
   "metadata": {},
   "outputs": [],
   "source": [
    "scaler = StandardScaler()\n",
    "\n",
    "# Fitting and Transforming the X data \n",
    "scaled_ohe_X_train = scaler.fit_transform(ohe_X_train)\n",
    "scaled_ohe_X_test = scaler.transform(ohe_X_test)"
   ]
  },
  {
   "cell_type": "markdown",
   "id": "003acab7-2eae-49cb-aa1a-b6ebb89af531",
   "metadata": {},
   "source": [
    "### **Linear Regression**"
   ]
  },
  {
   "cell_type": "code",
   "execution_count": 27,
   "id": "430daaf7-e15c-4cc0-b31f-a16fd73e5e04",
   "metadata": {},
   "outputs": [],
   "source": [
    "linear_model = LinearRegression()"
   ]
  },
  {
   "cell_type": "code",
   "execution_count": 43,
   "id": "5db3ef99-3425-4a37-bf17-906197febef7",
   "metadata": {},
   "outputs": [
    {
     "data": {
      "text/html": [
       "<style>#sk-container-id-3 {color: black;}#sk-container-id-3 pre{padding: 0;}#sk-container-id-3 div.sk-toggleable {background-color: white;}#sk-container-id-3 label.sk-toggleable__label {cursor: pointer;display: block;width: 100%;margin-bottom: 0;padding: 0.3em;box-sizing: border-box;text-align: center;}#sk-container-id-3 label.sk-toggleable__label-arrow:before {content: \"▸\";float: left;margin-right: 0.25em;color: #696969;}#sk-container-id-3 label.sk-toggleable__label-arrow:hover:before {color: black;}#sk-container-id-3 div.sk-estimator:hover label.sk-toggleable__label-arrow:before {color: black;}#sk-container-id-3 div.sk-toggleable__content {max-height: 0;max-width: 0;overflow: hidden;text-align: left;background-color: #f0f8ff;}#sk-container-id-3 div.sk-toggleable__content pre {margin: 0.2em;color: black;border-radius: 0.25em;background-color: #f0f8ff;}#sk-container-id-3 input.sk-toggleable__control:checked~div.sk-toggleable__content {max-height: 200px;max-width: 100%;overflow: auto;}#sk-container-id-3 input.sk-toggleable__control:checked~label.sk-toggleable__label-arrow:before {content: \"▾\";}#sk-container-id-3 div.sk-estimator input.sk-toggleable__control:checked~label.sk-toggleable__label {background-color: #d4ebff;}#sk-container-id-3 div.sk-label input.sk-toggleable__control:checked~label.sk-toggleable__label {background-color: #d4ebff;}#sk-container-id-3 input.sk-hidden--visually {border: 0;clip: rect(1px 1px 1px 1px);clip: rect(1px, 1px, 1px, 1px);height: 1px;margin: -1px;overflow: hidden;padding: 0;position: absolute;width: 1px;}#sk-container-id-3 div.sk-estimator {font-family: monospace;background-color: #f0f8ff;border: 1px dotted black;border-radius: 0.25em;box-sizing: border-box;margin-bottom: 0.5em;}#sk-container-id-3 div.sk-estimator:hover {background-color: #d4ebff;}#sk-container-id-3 div.sk-parallel-item::after {content: \"\";width: 100%;border-bottom: 1px solid gray;flex-grow: 1;}#sk-container-id-3 div.sk-label:hover label.sk-toggleable__label {background-color: #d4ebff;}#sk-container-id-3 div.sk-serial::before {content: \"\";position: absolute;border-left: 1px solid gray;box-sizing: border-box;top: 0;bottom: 0;left: 50%;z-index: 0;}#sk-container-id-3 div.sk-serial {display: flex;flex-direction: column;align-items: center;background-color: white;padding-right: 0.2em;padding-left: 0.2em;position: relative;}#sk-container-id-3 div.sk-item {position: relative;z-index: 1;}#sk-container-id-3 div.sk-parallel {display: flex;align-items: stretch;justify-content: center;background-color: white;position: relative;}#sk-container-id-3 div.sk-item::before, #sk-container-id-3 div.sk-parallel-item::before {content: \"\";position: absolute;border-left: 1px solid gray;box-sizing: border-box;top: 0;bottom: 0;left: 50%;z-index: -1;}#sk-container-id-3 div.sk-parallel-item {display: flex;flex-direction: column;z-index: 1;position: relative;background-color: white;}#sk-container-id-3 div.sk-parallel-item:first-child::after {align-self: flex-end;width: 50%;}#sk-container-id-3 div.sk-parallel-item:last-child::after {align-self: flex-start;width: 50%;}#sk-container-id-3 div.sk-parallel-item:only-child::after {width: 0;}#sk-container-id-3 div.sk-dashed-wrapped {border: 1px dashed gray;margin: 0 0.4em 0.5em 0.4em;box-sizing: border-box;padding-bottom: 0.4em;background-color: white;}#sk-container-id-3 div.sk-label label {font-family: monospace;font-weight: bold;display: inline-block;line-height: 1.2em;}#sk-container-id-3 div.sk-label-container {text-align: center;}#sk-container-id-3 div.sk-container {/* jupyter's `normalize.less` sets `[hidden] { display: none; }` but bootstrap.min.css set `[hidden] { display: none !important; }` so we also need the `!important` here to be able to override the default hidden behavior on the sphinx rendered scikit-learn.org. See: https://github.com/scikit-learn/scikit-learn/issues/21755 */display: inline-block !important;position: relative;}#sk-container-id-3 div.sk-text-repr-fallback {display: none;}</style><div id=\"sk-container-id-3\" class=\"sk-top-container\"><div class=\"sk-text-repr-fallback\"><pre>LinearRegression()</pre><b>In a Jupyter environment, please rerun this cell to show the HTML representation or trust the notebook. <br />On GitHub, the HTML representation is unable to render, please try loading this page with nbviewer.org.</b></div><div class=\"sk-container\" hidden><div class=\"sk-item\"><div class=\"sk-estimator sk-toggleable\"><input class=\"sk-toggleable__control sk-hidden--visually\" id=\"sk-estimator-id-3\" type=\"checkbox\" checked><label for=\"sk-estimator-id-3\" class=\"sk-toggleable__label sk-toggleable__label-arrow\">LinearRegression</label><div class=\"sk-toggleable__content\"><pre>LinearRegression()</pre></div></div></div></div></div>"
      ],
      "text/plain": [
       "LinearRegression()"
      ]
     },
     "execution_count": 43,
     "metadata": {},
     "output_type": "execute_result"
    }
   ],
   "source": [
    "linear_model.fit(scaled_ohe_X_train,y_train)"
   ]
  },
  {
   "cell_type": "code",
   "execution_count": 44,
   "id": "88d788bb-701f-4a7f-9f6a-de4fc4e12bf0",
   "metadata": {},
   "outputs": [
    {
     "name": "stdout",
     "output_type": "stream",
     "text": [
      "\u001b[1m\u001b[4m\u001b[95mLinear Model Results\u001b[0m\n",
      "R2 score for Train data is  0.47734091192030226\n",
      "R2 score for Test data is  0.47946616183954005\n",
      "Mean Absolute Error is  318.15623765168414\n",
      "Mean Squared Error is  479.68386055105907\n"
     ]
    }
   ],
   "source": [
    "print('\\033[1m\\033[4m\\033[95mLinear Model Results\\033[0m')\n",
    "print('R2 score for Train data is ', linear_model.score(scaled_ohe_X_train,y_train))\n",
    "print('R2 score for Test data is ', r2_score(y_test,linear_model.predict(scaled_ohe_X_test)))\n",
    "print('Mean Absolute Error is ',mean_absolute_error(y_test,linear_model.predict(scaled_ohe_X_test)))\n",
    "print('Mean Squared Error is ',np.sqrt(mean_squared_error(y_test,linear_model.predict(scaled_ohe_X_test))))"
   ]
  },
  {
   "cell_type": "markdown",
   "id": "d6d0f382-6cf5-4824-aada-e36faf0d427e",
   "metadata": {},
   "source": [
    "### **XG Boost Regressor**"
   ]
  },
  {
   "cell_type": "code",
   "execution_count": 33,
   "id": "6a72da15-e6fd-48b8-b916-5354f0d3129f",
   "metadata": {},
   "outputs": [
    {
     "data": {
      "text/html": [
       "<style>#sk-container-id-2 {color: black;}#sk-container-id-2 pre{padding: 0;}#sk-container-id-2 div.sk-toggleable {background-color: white;}#sk-container-id-2 label.sk-toggleable__label {cursor: pointer;display: block;width: 100%;margin-bottom: 0;padding: 0.3em;box-sizing: border-box;text-align: center;}#sk-container-id-2 label.sk-toggleable__label-arrow:before {content: \"▸\";float: left;margin-right: 0.25em;color: #696969;}#sk-container-id-2 label.sk-toggleable__label-arrow:hover:before {color: black;}#sk-container-id-2 div.sk-estimator:hover label.sk-toggleable__label-arrow:before {color: black;}#sk-container-id-2 div.sk-toggleable__content {max-height: 0;max-width: 0;overflow: hidden;text-align: left;background-color: #f0f8ff;}#sk-container-id-2 div.sk-toggleable__content pre {margin: 0.2em;color: black;border-radius: 0.25em;background-color: #f0f8ff;}#sk-container-id-2 input.sk-toggleable__control:checked~div.sk-toggleable__content {max-height: 200px;max-width: 100%;overflow: auto;}#sk-container-id-2 input.sk-toggleable__control:checked~label.sk-toggleable__label-arrow:before {content: \"▾\";}#sk-container-id-2 div.sk-estimator input.sk-toggleable__control:checked~label.sk-toggleable__label {background-color: #d4ebff;}#sk-container-id-2 div.sk-label input.sk-toggleable__control:checked~label.sk-toggleable__label {background-color: #d4ebff;}#sk-container-id-2 input.sk-hidden--visually {border: 0;clip: rect(1px 1px 1px 1px);clip: rect(1px, 1px, 1px, 1px);height: 1px;margin: -1px;overflow: hidden;padding: 0;position: absolute;width: 1px;}#sk-container-id-2 div.sk-estimator {font-family: monospace;background-color: #f0f8ff;border: 1px dotted black;border-radius: 0.25em;box-sizing: border-box;margin-bottom: 0.5em;}#sk-container-id-2 div.sk-estimator:hover {background-color: #d4ebff;}#sk-container-id-2 div.sk-parallel-item::after {content: \"\";width: 100%;border-bottom: 1px solid gray;flex-grow: 1;}#sk-container-id-2 div.sk-label:hover label.sk-toggleable__label {background-color: #d4ebff;}#sk-container-id-2 div.sk-serial::before {content: \"\";position: absolute;border-left: 1px solid gray;box-sizing: border-box;top: 0;bottom: 0;left: 50%;z-index: 0;}#sk-container-id-2 div.sk-serial {display: flex;flex-direction: column;align-items: center;background-color: white;padding-right: 0.2em;padding-left: 0.2em;position: relative;}#sk-container-id-2 div.sk-item {position: relative;z-index: 1;}#sk-container-id-2 div.sk-parallel {display: flex;align-items: stretch;justify-content: center;background-color: white;position: relative;}#sk-container-id-2 div.sk-item::before, #sk-container-id-2 div.sk-parallel-item::before {content: \"\";position: absolute;border-left: 1px solid gray;box-sizing: border-box;top: 0;bottom: 0;left: 50%;z-index: -1;}#sk-container-id-2 div.sk-parallel-item {display: flex;flex-direction: column;z-index: 1;position: relative;background-color: white;}#sk-container-id-2 div.sk-parallel-item:first-child::after {align-self: flex-end;width: 50%;}#sk-container-id-2 div.sk-parallel-item:last-child::after {align-self: flex-start;width: 50%;}#sk-container-id-2 div.sk-parallel-item:only-child::after {width: 0;}#sk-container-id-2 div.sk-dashed-wrapped {border: 1px dashed gray;margin: 0 0.4em 0.5em 0.4em;box-sizing: border-box;padding-bottom: 0.4em;background-color: white;}#sk-container-id-2 div.sk-label label {font-family: monospace;font-weight: bold;display: inline-block;line-height: 1.2em;}#sk-container-id-2 div.sk-label-container {text-align: center;}#sk-container-id-2 div.sk-container {/* jupyter's `normalize.less` sets `[hidden] { display: none; }` but bootstrap.min.css set `[hidden] { display: none !important; }` so we also need the `!important` here to be able to override the default hidden behavior on the sphinx rendered scikit-learn.org. See: https://github.com/scikit-learn/scikit-learn/issues/21755 */display: inline-block !important;position: relative;}#sk-container-id-2 div.sk-text-repr-fallback {display: none;}</style><div id=\"sk-container-id-2\" class=\"sk-top-container\"><div class=\"sk-text-repr-fallback\"><pre>XGBRegressor(base_score=None, booster=None, callbacks=None,\n",
       "             colsample_bylevel=None, colsample_bynode=None,\n",
       "             colsample_bytree=None, early_stopping_rounds=None,\n",
       "             enable_categorical=False, eval_metric=None, feature_types=None,\n",
       "             gamma=None, gpu_id=None, grow_policy=None, importance_type=None,\n",
       "             interaction_constraints=None, learning_rate=None, max_bin=None,\n",
       "             max_cat_threshold=None, max_cat_to_onehot=None,\n",
       "             max_delta_step=None, max_depth=None, max_leaves=None,\n",
       "             min_child_weight=None, missing=nan, monotone_constraints=None,\n",
       "             n_estimators=100, n_jobs=None, num_parallel_tree=None,\n",
       "             predictor=None, random_state=None, ...)</pre><b>In a Jupyter environment, please rerun this cell to show the HTML representation or trust the notebook. <br />On GitHub, the HTML representation is unable to render, please try loading this page with nbviewer.org.</b></div><div class=\"sk-container\" hidden><div class=\"sk-item\"><div class=\"sk-estimator sk-toggleable\"><input class=\"sk-toggleable__control sk-hidden--visually\" id=\"sk-estimator-id-2\" type=\"checkbox\" checked><label for=\"sk-estimator-id-2\" class=\"sk-toggleable__label sk-toggleable__label-arrow\">XGBRegressor</label><div class=\"sk-toggleable__content\"><pre>XGBRegressor(base_score=None, booster=None, callbacks=None,\n",
       "             colsample_bylevel=None, colsample_bynode=None,\n",
       "             colsample_bytree=None, early_stopping_rounds=None,\n",
       "             enable_categorical=False, eval_metric=None, feature_types=None,\n",
       "             gamma=None, gpu_id=None, grow_policy=None, importance_type=None,\n",
       "             interaction_constraints=None, learning_rate=None, max_bin=None,\n",
       "             max_cat_threshold=None, max_cat_to_onehot=None,\n",
       "             max_delta_step=None, max_depth=None, max_leaves=None,\n",
       "             min_child_weight=None, missing=nan, monotone_constraints=None,\n",
       "             n_estimators=100, n_jobs=None, num_parallel_tree=None,\n",
       "             predictor=None, random_state=None, ...)</pre></div></div></div></div></div>"
      ],
      "text/plain": [
       "XGBRegressor(base_score=None, booster=None, callbacks=None,\n",
       "             colsample_bylevel=None, colsample_bynode=None,\n",
       "             colsample_bytree=None, early_stopping_rounds=None,\n",
       "             enable_categorical=False, eval_metric=None, feature_types=None,\n",
       "             gamma=None, gpu_id=None, grow_policy=None, importance_type=None,\n",
       "             interaction_constraints=None, learning_rate=None, max_bin=None,\n",
       "             max_cat_threshold=None, max_cat_to_onehot=None,\n",
       "             max_delta_step=None, max_depth=None, max_leaves=None,\n",
       "             min_child_weight=None, missing=nan, monotone_constraints=None,\n",
       "             n_estimators=100, n_jobs=None, num_parallel_tree=None,\n",
       "             predictor=None, random_state=None, ...)"
      ]
     },
     "execution_count": 33,
     "metadata": {},
     "output_type": "execute_result"
    }
   ],
   "source": [
    "xgb_model.fit(scaled_ohe_X_train,y_train)"
   ]
  },
  {
   "cell_type": "code",
   "execution_count": 45,
   "id": "ce7f5302-cf1d-40cb-bd5c-014e1eae80ef",
   "metadata": {},
   "outputs": [
    {
     "name": "stdout",
     "output_type": "stream",
     "text": [
      "\u001b[1m\u001b[4m\u001b[95mXG Boost Model Results\u001b[0m\n",
      "R2 score for Train data is  0.8678482797540568\n",
      "R2 score for Test data is  0.8674684524230976\n",
      "Mean Absolute Error is  142.11990426498684\n",
      "Mean Squared Error is  242.04173516738285\n"
     ]
    }
   ],
   "source": [
    "print('\\033[1m\\033[4m\\033[95mXG Boost Model Results\\033[0m')\n",
    "print('R2 score for Train data is ', xgb_model.score(scaled_ohe_X_train,y_train))\n",
    "print('R2 score for Test data is ', r2_score(y_test,xgb_model.predict(scaled_ohe_X_test)))\n",
    "print('Mean Absolute Error is ',mean_absolute_error(y_test,xgb_model.predict(scaled_ohe_X_test)))\n",
    "print('Mean Squared Error is ',np.sqrt(mean_squared_error(y_test,xgb_model.predict(scaled_ohe_X_test))))"
   ]
  },
  {
   "cell_type": "code",
   "execution_count": null,
   "id": "b6a6d4b4-84be-4794-b3c5-9d57ad5abd5a",
   "metadata": {},
   "outputs": [],
   "source": []
  },
  {
   "cell_type": "markdown",
   "id": "211fd577-8db1-499a-83ec-69783101659d",
   "metadata": {},
   "source": [
    "### **Outlier Analysis**"
   ]
  },
  {
   "cell_type": "code",
   "execution_count": 10,
   "id": "594964de-fd13-4f73-ae47-7e34ca92f945",
   "metadata": {},
   "outputs": [
    {
     "name": "stdout",
     "output_type": "stream",
     "text": [
      "Rows with outliers:\n",
      "       age_group       city             occupation gender marital status  \\\n",
      "2            45+  Bengaluru  Salaried IT Employees   Male        Married   \n",
      "19           45+  Bengaluru  Salaried IT Employees   Male        Married   \n",
      "58           45+  Bengaluru  Salaried IT Employees   Male        Married   \n",
      "80           45+  Bengaluru  Salaried IT Employees   Male        Married   \n",
      "182          45+  Bengaluru  Salaried IT Employees   Male        Married   \n",
      "...          ...        ...                    ...    ...            ...   \n",
      "863879     25-34     Mumbai        Business Owners   Male         Single   \n",
      "863886     25-34     Mumbai        Business Owners   Male         Single   \n",
      "863912     25-34     Mumbai        Business Owners   Male         Single   \n",
      "863923     25-34     Mumbai        Business Owners   Male         Single   \n",
      "863936     25-34     Mumbai        Business Owners   Male         Single   \n",
      "\n",
      "        avg_income     category payment_type  spend  \n",
      "2            73523        Bills  Credit Card   2765  \n",
      "19           73523        Bills  Credit Card   3825  \n",
      "58           73523        Bills  Credit Card   3850  \n",
      "80           73523        Bills   Debit Card   2711  \n",
      "182          73523        Bills  Credit Card   4067  \n",
      "...            ...          ...          ...    ...  \n",
      "863879       73541  Electronics  Credit Card   3339  \n",
      "863886       73541    Groceries          UPI   2708  \n",
      "863912       73541    Groceries          UPI   2707  \n",
      "863923       73541        Bills  Credit Card   2978  \n",
      "863936       73541        Bills  Credit Card   4544  \n",
      "\n",
      "[17906 rows x 9 columns]\n",
      "\n",
      "Summary statistics for selected columns:\n",
      "          avg_income          spend\n",
      "count  864000.000000  864000.000000\n",
      "mean    51657.032250     614.464994\n",
      "std     14688.312762     661.571676\n",
      "min     24816.000000       6.000000\n",
      "25%     38701.000000     191.000000\n",
      "50%     50422.000000     395.000000\n",
      "75%     64773.250000     793.000000\n",
      "max     86600.000000   10313.000000\n"
     ]
    }
   ],
   "source": [
    "columns_to_check = ['avg_income', 'spend']\n",
    "\n",
    "# Calculate Z-scores for selected columns\n",
    "z_scores = zscore(merged_df[columns_to_check])\n",
    "\n",
    "# Set a threshold for Z-scores (e.g., 3 or -3, depending on your preference)\n",
    "z_score_threshold = 3\n",
    "\n",
    "# Identify outliers based on the Z-score\n",
    "outliers = (abs(z_scores) > z_score_threshold).any(axis=1)\n",
    "\n",
    "# Display rows with outliers\n",
    "outlier_rows = merged_df[outliers]\n",
    "print(\"Rows with outliers:\")\n",
    "print(outlier_rows)\n",
    "\n",
    "# Display summary statistics for columns to check\n",
    "print(\"\\nSummary statistics for selected columns:\")\n",
    "print(merged_df[columns_to_check].describe())"
   ]
  },
  {
   "cell_type": "code",
   "execution_count": 11,
   "id": "2f973a36-d9f0-44ca-8fff-6cad53b57c88",
   "metadata": {},
   "outputs": [
    {
     "name": "stdout",
     "output_type": "stream",
     "text": [
      "\n",
      "Summary statistics for filtered DataFrame:\n"
     ]
    },
    {
     "data": {
      "text/html": [
       "<div>\n",
       "<style scoped>\n",
       "    .dataframe tbody tr th:only-of-type {\n",
       "        vertical-align: middle;\n",
       "    }\n",
       "\n",
       "    .dataframe tbody tr th {\n",
       "        vertical-align: top;\n",
       "    }\n",
       "\n",
       "    .dataframe thead th {\n",
       "        text-align: right;\n",
       "    }\n",
       "</style>\n",
       "<table border=\"1\" class=\"dataframe\">\n",
       "  <thead>\n",
       "    <tr style=\"text-align: right;\">\n",
       "      <th></th>\n",
       "      <th>avg_income</th>\n",
       "      <th>spend</th>\n",
       "    </tr>\n",
       "  </thead>\n",
       "  <tbody>\n",
       "    <tr>\n",
       "      <th>count</th>\n",
       "      <td>846094.000000</td>\n",
       "      <td>846094.000000</td>\n",
       "    </tr>\n",
       "    <tr>\n",
       "      <th>mean</th>\n",
       "      <td>51409.300686</td>\n",
       "      <td>553.961627</td>\n",
       "    </tr>\n",
       "    <tr>\n",
       "      <th>std</th>\n",
       "      <td>14691.743884</td>\n",
       "      <td>503.800582</td>\n",
       "    </tr>\n",
       "    <tr>\n",
       "      <th>min</th>\n",
       "      <td>24816.000000</td>\n",
       "      <td>6.000000</td>\n",
       "    </tr>\n",
       "    <tr>\n",
       "      <th>25%</th>\n",
       "      <td>38560.000000</td>\n",
       "      <td>188.000000</td>\n",
       "    </tr>\n",
       "    <tr>\n",
       "      <th>50%</th>\n",
       "      <td>49893.000000</td>\n",
       "      <td>385.000000</td>\n",
       "    </tr>\n",
       "    <tr>\n",
       "      <th>75%</th>\n",
       "      <td>64610.000000</td>\n",
       "      <td>756.000000</td>\n",
       "    </tr>\n",
       "    <tr>\n",
       "      <th>max</th>\n",
       "      <td>86600.000000</td>\n",
       "      <td>2599.000000</td>\n",
       "    </tr>\n",
       "  </tbody>\n",
       "</table>\n",
       "</div>"
      ],
      "text/plain": [
       "          avg_income          spend\n",
       "count  846094.000000  846094.000000\n",
       "mean    51409.300686     553.961627\n",
       "std     14691.743884     503.800582\n",
       "min     24816.000000       6.000000\n",
       "25%     38560.000000     188.000000\n",
       "50%     49893.000000     385.000000\n",
       "75%     64610.000000     756.000000\n",
       "max     86600.000000    2599.000000"
      ]
     },
     "execution_count": 11,
     "metadata": {},
     "output_type": "execute_result"
    }
   ],
   "source": [
    "# Remove outliers from the DataFrame\n",
    "filtered_df = merged_df[~outliers]\n",
    "\n",
    "# Display summary statistics for the filtered DataFrame\n",
    "print(\"\\nSummary statistics for filtered DataFrame:\")\n",
    "filtered_df[columns_to_check].describe()"
   ]
  },
  {
   "cell_type": "code",
   "execution_count": 12,
   "id": "dfc58df6-9dcc-4451-b9e4-92fcbbb78577",
   "metadata": {},
   "outputs": [
    {
     "data": {
      "image/png": "[encoded data removed]",
      "text/plain": [
       "<Figure size 1200x600 with 2 Axes>"
      ]
     },
     "metadata": {},
     "output_type": "display_data"
    }
   ],
   "source": [
    "# Create subplots for each column\n",
    "plt.figure(figsize=(12, 6))\n",
    "\n",
    "# Box plot for 'avg_income'\n",
    "plt.subplot(1, 2, 1)\n",
    "sns.boxplot(x='avg_income', data=merged_df, color='skyblue')\n",
    "plt.title('Box Plot for avg_income')\n",
    "\n",
    "# Box plot for 'spend'\n",
    "plt.subplot(1, 2, 2)\n",
    "sns.boxplot(x='spend', data=merged_df, color='lightcoral')\n",
    "plt.title('Box Plot for spend')\n",
    "\n",
    "# Show the plot\n",
    "plt.tight_layout()\n",
    "plt.show()"
   ]
  },
  {
   "cell_type": "markdown",
   "id": "3c941117-dbc2-4006-ab98-a7628dcc4a65",
   "metadata": {},
   "source": [
    "* From above Box Plots, we can say that there are More Outliers in the Spend Column\n",
    "\n",
    "### **Log Transforming the Spend column**"
   ]
  },
  {
   "cell_type": "code",
   "execution_count": 13,
   "id": "58a6aade-f452-4973-8251-e6ed1f145fce",
   "metadata": {},
   "outputs": [],
   "source": [
    "# Log-transform the 'spend' column\n",
    "merged_df['spend_log'] = np.log1p(merged_df['spend'])"
   ]
  },
  {
   "cell_type": "markdown",
   "id": "139e366b-b398-48e4-b9ab-fa4974a28388",
   "metadata": {},
   "source": [
    "#### **Train-Test Split for Log Transformed Data**"
   ]
  },
  {
   "cell_type": "code",
   "execution_count": 14,
   "id": "a627f49f-3ac3-4266-aa92-9aa587ee45d9",
   "metadata": {},
   "outputs": [],
   "source": [
    "X = merged_df[['age_group', 'city', 'occupation', 'gender', 'marital status', 'avg_income', 'category', 'payment_type']]\n",
    "y = merged_df['spend_log']"
   ]
  },
  {
   "cell_type": "code",
   "execution_count": 15,
   "id": "0388e64a-280b-46a8-89b4-e116694d6997",
   "metadata": {},
   "outputs": [],
   "source": [
    "X_train2, X_test2, y_train2, y_test2 = train_test_split(X, y, test_size=0.30, random_state=31)"
   ]
  },
  {
   "cell_type": "code",
   "execution_count": 16,
   "id": "6ea0a902-0be4-4388-afbc-74451b59b1e7",
   "metadata": {},
   "outputs": [],
   "source": [
    "ohe2 = OneHotEncoder(drop='first',sparse=False,dtype=np.int32)\n",
    "\n",
    "X_train_new2 = ohe2.fit_transform(X_train2[['age_group','city','occupation','gender','marital status','category','payment_type']])\n",
    "\n",
    "X_test_new2 = ohe2.fit_transform(X_test2[['age_group','city','occupation','gender','marital status','category','payment_type']])\n",
    "\n",
    "ohe_X_train2 = np.hstack((X_train2[['avg_income']].values,X_train_new2))\n",
    "\n",
    "ohe_X_test2 = np.hstack((X_test2[['avg_income']].values,X_test_new2))"
   ]
  },
  {
   "cell_type": "code",
   "execution_count": 17,
   "id": "accd1aee-3b3e-4b8f-857d-cc8a153eab63",
   "metadata": {},
   "outputs": [],
   "source": [
    "scaler2 = StandardScaler()\n",
    "\n",
    "# Fitting and Transforming the X data \n",
    "scaled_ohe_X_train2 = scaler2.fit_transform(ohe_X_train2)\n",
    "scaled_ohe_X_test2 = scaler2.transform(ohe_X_test2)"
   ]
  },
  {
   "cell_type": "markdown",
   "id": "5dc12bca-2b6e-4f11-af89-18f58351849a",
   "metadata": {},
   "source": [
    "#### **XG Boost Model 2**"
   ]
  },
  {
   "cell_type": "code",
   "execution_count": 18,
   "id": "858ccecb-70b1-41d0-b88e-51b3fb9e0814",
   "metadata": {},
   "outputs": [
    {
     "data": {
      "text/html": [
       "<style>#sk-container-id-1 {color: black;}#sk-container-id-1 pre{padding: 0;}#sk-container-id-1 div.sk-toggleable {background-color: white;}#sk-container-id-1 label.sk-toggleable__label {cursor: pointer;display: block;width: 100%;margin-bottom: 0;padding: 0.3em;box-sizing: border-box;text-align: center;}#sk-container-id-1 label.sk-toggleable__label-arrow:before {content: \"▸\";float: left;margin-right: 0.25em;color: #696969;}#sk-container-id-1 label.sk-toggleable__label-arrow:hover:before {color: black;}#sk-container-id-1 div.sk-estimator:hover label.sk-toggleable__label-arrow:before {color: black;}#sk-container-id-1 div.sk-toggleable__content {max-height: 0;max-width: 0;overflow: hidden;text-align: left;background-color: #f0f8ff;}#sk-container-id-1 div.sk-toggleable__content pre {margin: 0.2em;color: black;border-radius: 0.25em;background-color: #f0f8ff;}#sk-container-id-1 input.sk-toggleable__control:checked~div.sk-toggleable__content {max-height: 200px;max-width: 100%;overflow: auto;}#sk-container-id-1 input.sk-toggleable__control:checked~label.sk-toggleable__label-arrow:before {content: \"▾\";}#sk-container-id-1 div.sk-estimator input.sk-toggleable__control:checked~label.sk-toggleable__label {background-color: #d4ebff;}#sk-container-id-1 div.sk-label input.sk-toggleable__control:checked~label.sk-toggleable__label {background-color: #d4ebff;}#sk-container-id-1 input.sk-hidden--visually {border: 0;clip: rect(1px 1px 1px 1px);clip: rect(1px, 1px, 1px, 1px);height: 1px;margin: -1px;overflow: hidden;padding: 0;position: absolute;width: 1px;}#sk-container-id-1 div.sk-estimator {font-family: monospace;background-color: #f0f8ff;border: 1px dotted black;border-radius: 0.25em;box-sizing: border-box;margin-bottom: 0.5em;}#sk-container-id-1 div.sk-estimator:hover {background-color: #d4ebff;}#sk-container-id-1 div.sk-parallel-item::after {content: \"\";width: 100%;border-bottom: 1px solid gray;flex-grow: 1;}#sk-container-id-1 div.sk-label:hover label.sk-toggleable__label {background-color: #d4ebff;}#sk-container-id-1 div.sk-serial::before {content: \"\";position: absolute;border-left: 1px solid gray;box-sizing: border-box;top: 0;bottom: 0;left: 50%;z-index: 0;}#sk-container-id-1 div.sk-serial {display: flex;flex-direction: column;align-items: center;background-color: white;padding-right: 0.2em;padding-left: 0.2em;position: relative;}#sk-container-id-1 div.sk-item {position: relative;z-index: 1;}#sk-container-id-1 div.sk-parallel {display: flex;align-items: stretch;justify-content: center;background-color: white;position: relative;}#sk-container-id-1 div.sk-item::before, #sk-container-id-1 div.sk-parallel-item::before {content: \"\";position: absolute;border-left: 1px solid gray;box-sizing: border-box;top: 0;bottom: 0;left: 50%;z-index: -1;}#sk-container-id-1 div.sk-parallel-item {display: flex;flex-direction: column;z-index: 1;position: relative;background-color: white;}#sk-container-id-1 div.sk-parallel-item:first-child::after {align-self: flex-end;width: 50%;}#sk-container-id-1 div.sk-parallel-item:last-child::after {align-self: flex-start;width: 50%;}#sk-container-id-1 div.sk-parallel-item:only-child::after {width: 0;}#sk-container-id-1 div.sk-dashed-wrapped {border: 1px dashed gray;margin: 0 0.4em 0.5em 0.4em;box-sizing: border-box;padding-bottom: 0.4em;background-color: white;}#sk-container-id-1 div.sk-label label {font-family: monospace;font-weight: bold;display: inline-block;line-height: 1.2em;}#sk-container-id-1 div.sk-label-container {text-align: center;}#sk-container-id-1 div.sk-container {/* jupyter's `normalize.less` sets `[hidden] { display: none; }` but bootstrap.min.css set `[hidden] { display: none !important; }` so we also need the `!important` here to be able to override the default hidden behavior on the sphinx rendered scikit-learn.org. See: https://github.com/scikit-learn/scikit-learn/issues/21755 */display: inline-block !important;position: relative;}#sk-container-id-1 div.sk-text-repr-fallback {display: none;}</style><div id=\"sk-container-id-1\" class=\"sk-top-container\"><div class=\"sk-text-repr-fallback\"><pre>XGBRegressor(base_score=None, booster=None, callbacks=None,\n",
       "             colsample_bylevel=None, colsample_bynode=None,\n",
       "             colsample_bytree=None, early_stopping_rounds=None,\n",
       "             enable_categorical=False, eval_metric=None, feature_types=None,\n",
       "             gamma=None, gpu_id=None, grow_policy=None, importance_type=None,\n",
       "             interaction_constraints=None, learning_rate=None, max_bin=None,\n",
       "             max_cat_threshold=None, max_cat_to_onehot=None,\n",
       "             max_delta_step=None, max_depth=None, max_leaves=None,\n",
       "             min_child_weight=None, missing=nan, monotone_constraints=None,\n",
       "             n_estimators=100, n_jobs=None, num_parallel_tree=None,\n",
       "             predictor=None, random_state=None, ...)</pre><b>In a Jupyter environment, please rerun this cell to show the HTML representation or trust the notebook. <br />On GitHub, the HTML representation is unable to render, please try loading this page with nbviewer.org.</b></div><div class=\"sk-container\" hidden><div class=\"sk-item\"><div class=\"sk-estimator sk-toggleable\"><input class=\"sk-toggleable__control sk-hidden--visually\" id=\"sk-estimator-id-1\" type=\"checkbox\" checked><label for=\"sk-estimator-id-1\" class=\"sk-toggleable__label sk-toggleable__label-arrow\">XGBRegressor</label><div class=\"sk-toggleable__content\"><pre>XGBRegressor(base_score=None, booster=None, callbacks=None,\n",
       "             colsample_bylevel=None, colsample_bynode=None,\n",
       "             colsample_bytree=None, early_stopping_rounds=None,\n",
       "             enable_categorical=False, eval_metric=None, feature_types=None,\n",
       "             gamma=None, gpu_id=None, grow_policy=None, importance_type=None,\n",
       "             interaction_constraints=None, learning_rate=None, max_bin=None,\n",
       "             max_cat_threshold=None, max_cat_to_onehot=None,\n",
       "             max_delta_step=None, max_depth=None, max_leaves=None,\n",
       "             min_child_weight=None, missing=nan, monotone_constraints=None,\n",
       "             n_estimators=100, n_jobs=None, num_parallel_tree=None,\n",
       "             predictor=None, random_state=None, ...)</pre></div></div></div></div></div>"
      ],
      "text/plain": [
       "XGBRegressor(base_score=None, booster=None, callbacks=None,\n",
       "             colsample_bylevel=None, colsample_bynode=None,\n",
       "             colsample_bytree=None, early_stopping_rounds=None,\n",
       "             enable_categorical=False, eval_metric=None, feature_types=None,\n",
       "             gamma=None, gpu_id=None, grow_policy=None, importance_type=None,\n",
       "             interaction_constraints=None, learning_rate=None, max_bin=None,\n",
       "             max_cat_threshold=None, max_cat_to_onehot=None,\n",
       "             max_delta_step=None, max_depth=None, max_leaves=None,\n",
       "             min_child_weight=None, missing=nan, monotone_constraints=None,\n",
       "             n_estimators=100, n_jobs=None, num_parallel_tree=None,\n",
       "             predictor=None, random_state=None, ...)"
      ]
     },
     "execution_count": 18,
     "metadata": {},
     "output_type": "execute_result"
    }
   ],
   "source": [
    "xgb_model2 = XGBRegressor()\n",
    "xgb_model2.fit(scaled_ohe_X_train2,y_train2)"
   ]
  },
  {
   "cell_type": "code",
   "execution_count": 19,
   "id": "d4d558bd-4155-426b-a948-16efbfe83097",
   "metadata": {},
   "outputs": [
    {
     "name": "stdout",
     "output_type": "stream",
     "text": [
      "\u001b[1m\u001b[4m\u001b[95mXG Boost Model Results\u001b[0m\n",
      "R2 score for Train data is  0.9166499524613672\n",
      "R2 score for Test data is  0.9163785777993315\n",
      "Mean Absolute Error is  0.23210309241154853\n",
      "Mean Squared Error is  0.29151531921077406\n"
     ]
    }
   ],
   "source": [
    "print('\\033[1m\\033[4m\\033[95mXG Boost Model Results\\033[0m')\n",
    "print('R2 score for Train data is ', xgb_model2.score(scaled_ohe_X_train2,y_train2))\n",
    "print('R2 score for Test data is ', r2_score(y_test2,xgb_model2.predict(scaled_ohe_X_test2)))\n",
    "print('Mean Absolute Error is ',mean_absolute_error(y_test2,xgb_model2.predict(scaled_ohe_X_test2)))\n",
    "print('Mean Squared Error is ',np.sqrt(mean_squared_error(y_test2,xgb_model2.predict(scaled_ohe_X_test2))))"
   ]
  },
  {
   "cell_type": "markdown",
   "id": "fa6e2414-20ef-4eb6-bd76-7e333ca333c8",
   "metadata": {},
   "source": [
    "### **Making a Prediction**"
   ]
  },
  {
   "cell_type": "markdown",
   "id": "f584ee45-5847-4fbe-a0a6-3602700410b1",
   "metadata": {},
   "source": [
    "Our inputs should be in the **Order of 'avg_income','age_group','city','occupation','gender','marital status','category','payment_type'**"
   ]
  },
  {
   "cell_type": "markdown",
   "id": "c8d9d2d4-e7f8-4d7c-ac29-c55ef1a8e730",
   "metadata": {},
   "source": [
    "#### **Sample Test with XG Boost Model 2**"
   ]
  },
  {
   "cell_type": "markdown",
   "id": "3454ed2c-9292-4151-b4ea-2484a75f7452",
   "metadata": {},
   "source": [
    "**Test 1**"
   ]
  },
  {
   "cell_type": "code",
   "execution_count": 22,
   "id": "1f54a9ed-f6e0-4399-bc68-d1ebcf15981f",
   "metadata": {},
   "outputs": [
    {
     "data": {
      "text/plain": [
       "array([37.762722], dtype=float32)"
      ]
     },
     "execution_count": 22,
     "metadata": {},
     "output_type": "execute_result"
    }
   ],
   "source": [
    "# with 2nd Model\n",
    "data = [32602,'21-24','Mumbai','Salaried Other Employees','Female','Single','Others','Net Banking']\n",
    "\n",
    "input_data =np.hstack(([[data[0]]],\n",
    "                       ohe2.transform([[ data[1],data[2],data[3],data[4],data[5],data[6],data[7] ]])\n",
    "                      ))\n",
    "\n",
    "scaled_input_data = scaler2.transform(input_data)\n",
    "\n",
    "xgb_model2.predict(scaled_input_data)\n",
    "np.expm1(xgb_model2.predict(scaled_input_data))"
   ]
  },
  {
   "cell_type": "markdown",
   "id": "ce282780-82c0-4276-b4ce-37b736a79787",
   "metadata": {},
   "source": [
    "**Test 2**"
   ]
  },
  {
   "cell_type": "code",
   "execution_count": 24,
   "id": "6cfd3acf-bb95-44bf-9163-0a4ce57fe8ef",
   "metadata": {},
   "outputs": [
    {
     "data": {
      "text/plain": [
       "array([684.83905], dtype=float32)"
      ]
     },
     "execution_count": 24,
     "metadata": {},
     "output_type": "execute_result"
    }
   ],
   "source": [
    "# with 2nd Model\n",
    "data = [70026,'25-34','Mumbai','Business Owners','Male','Married','Food','UPI']\n",
    "\n",
    "input_data =np.hstack(([[data[0]]],\n",
    "                       ohe2.transform([[ data[1],data[2],data[3],data[4],data[5],data[6],data[7] ]])\n",
    "                      ))\n",
    "\n",
    "scaled_input_data = scaler2.transform(input_data)\n",
    "\n",
    "xgb_model2.predict(scaled_input_data)\n",
    "np.expm1(xgb_model2.predict(scaled_input_data))"
   ]
  },
  {
   "cell_type": "markdown",
   "id": "54cfce6a-785f-469a-ad83-bbfd6d95a80f",
   "metadata": {},
   "source": [
    "**Test 3**"
   ]
  },
  {
   "cell_type": "code",
   "execution_count": 26,
   "id": "a2fe0bc2-aac9-4f71-be19-a3815e8b0512",
   "metadata": {},
   "outputs": [
    {
     "data": {
      "text/plain": [
       "array([1117.7808], dtype=float32)"
      ]
     },
     "execution_count": 26,
     "metadata": {},
     "output_type": "execute_result"
    }
   ],
   "source": [
    "# with 2nd Model\n",
    "data = [37863,'35-45','Chennai','Freelancers','Male','Single','Bills','Credit Card']\n",
    "\n",
    "input_data =np.hstack(([[data[0]]],\n",
    "                       ohe2.transform([[ data[1],data[2],data[3],data[4],data[5],data[6],data[7] ]])\n",
    "                      ))\n",
    "\n",
    "scaled_input_data = scaler2.transform(input_data)\n",
    "\n",
    "xgb_model2.predict(scaled_input_data)\n",
    "np.expm1(xgb_model2.predict(scaled_input_data))"
   ]
  },
  {
   "cell_type": "markdown",
   "id": "64533b4f-01bb-4b1a-9231-3fa406ed65f4",
   "metadata": {},
   "source": [
    "### Saving the Model, Encoder, Scaler"
   ]
  },
  {
   "cell_type": "code",
   "execution_count": 27,
   "id": "aab13dc2-27f6-4f3b-9cf6-136bc527e4f4",
   "metadata": {},
   "outputs": [],
   "source": [
    "import pickle"
   ]
  },
  {
   "cell_type": "code",
   "execution_count": 28,
   "id": "47923675-3908-452e-a821-6e429e6717c1",
   "metadata": {},
   "outputs": [],
   "source": [
    "pickle.dump(xgb_model2,open('mitron_bank_spend_prediction_XGBoost_model.sav','wb'))"
   ]
  },
  {
   "cell_type": "code",
   "execution_count": 29,
   "id": "c4e9502a-4d35-4c30-92ed-339951519b1f",
   "metadata": {},
   "outputs": [],
   "source": [
    "pickle.dump(ohe2,open('One_Hot_Encoder.sav','wb'))"
   ]
  },
  {
   "cell_type": "code",
   "execution_count": 30,
   "id": "d0dc36bc-7aad-4b08-aba0-e69432afea53",
   "metadata": {},
   "outputs": [],
   "source": [
    "pickle.dump(scaler2,open('Scaler.sav','wb'))"
   ]
  },
  {
   "cell_type": "code",
   "execution_count": null,
   "id": "826add38-d7c1-473f-bee2-83cd2b91359e",
   "metadata": {},
   "outputs": [],
   "source": []
  }
 ],
 "metadata": {
  "kernelspec": {
   "display_name": "Python 3 (ipykernel)",
   "language": "python",
   "name": "python3"
  },
  "language_info": {
   "codemirror_mode": {
    "name": "ipython",
    "version": 3
   },
   "file_extension": ".py",
   "mimetype": "text/x-python",
   "name": "python",
   "nbconvert_exporter": "python",
   "pygments_lexer": "ipython3",
   "version": "3.9.13"
  }
 },
 "nbformat": 4,
 "nbformat_minor": 5
}
